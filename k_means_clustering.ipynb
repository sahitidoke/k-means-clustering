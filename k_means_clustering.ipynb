{
  "nbformat": 4,
  "nbformat_minor": 0,
  "metadata": {
    "colab": {
      "provenance": []
    },
    "kernelspec": {
      "name": "python3",
      "display_name": "Python 3"
    },
    "language_info": {
      "name": "python"
    }
  },
  "cells": [
    {
      "cell_type": "code",
      "execution_count": 32,
      "metadata": {
        "id": "kQgL84lGXLhv"
      },
      "outputs": [],
      "source": [
        "import pandas as pd\n",
        "import numpy as np"
      ]
    },
    {
      "cell_type": "markdown",
      "source": [
        "reading a data set(football related) and storing it as players using pandas"
      ],
      "metadata": {
        "id": "jLIb0-BKoCR5"
      }
    },
    {
      "cell_type": "code",
      "source": [
        "players = pd.read_csv(\"players_22.csv\")"
      ],
      "metadata": {
        "colab": {
          "base_uri": "https://localhost:8080/"
        },
        "id": "H5UEBld7XZ9g",
        "outputId": "eaef9773-712b-446f-8208-665f27d8d9b9"
      },
      "execution_count": 55,
      "outputs": [
        {
          "output_type": "stream",
          "name": "stderr",
          "text": [
            "<ipython-input-55-08b1a8bf1ee9>:1: DtypeWarning: Columns (25,108) have mixed types. Specify dtype option on import or set low_memory=False.\n",
            "  players = pd.read_csv(\"players_22.csv\")\n"
          ]
        }
      ]
    },
    {
      "cell_type": "markdown",
      "source": [
        "these are the features we are interested in organizing, you can choose any other features from the data set"
      ],
      "metadata": {
        "id": "hB5uNmgLp-LV"
      }
    },
    {
      "cell_type": "code",
      "source": [
        "features = [\"overall\", \"potential\" , \"wage_eur\", \"value_eur\" , \"age\" ]"
      ],
      "metadata": {
        "id": "jB_JgHKqXsHn"
      },
      "execution_count": 56,
      "outputs": []
    },
    {
      "cell_type": "markdown",
      "source": [
        "we are removing any column/row from the data set which has a null value since k means clustering doesn't work on null values"
      ],
      "metadata": {
        "id": "_aocGmFJqIx2"
      }
    },
    {
      "cell_type": "code",
      "source": [
        "players = players.dropna(subset= features)"
      ],
      "metadata": {
        "id": "yY61x4osXy0m"
      },
      "execution_count": 35,
      "outputs": []
    },
    {
      "cell_type": "markdown",
      "source": [
        "we are copying the feature columns of our data set (players) and storing it in 'data'"
      ],
      "metadata": {
        "id": "XTsjszT9qtWc"
      }
    },
    {
      "cell_type": "code",
      "source": [
        "data = players[features].copy()"
      ],
      "metadata": {
        "id": "kFq5PrF9YBUz"
      },
      "execution_count": 36,
      "outputs": []
    },
    {
      "cell_type": "markdown",
      "source": [
        "here's how it looks\n"
      ],
      "metadata": {
        "id": "lBaUa1Odq8Na"
      }
    },
    {
      "cell_type": "code",
      "source": [
        "data\n"
      ],
      "metadata": {
        "colab": {
          "base_uri": "https://localhost:8080/",
          "height": 424
        },
        "id": "rd2f464GYS8K",
        "outputId": "b119b899-16eb-4e46-903e-5fea2850fe3a"
      },
      "execution_count": 37,
      "outputs": [
        {
          "output_type": "execute_result",
          "data": {
            "text/plain": [
              "       overall  potential  wage_eur    value_eur  age\n",
              "0           93         93  320000.0   78000000.0   34\n",
              "1           92         92  270000.0  119500000.0   32\n",
              "2           91         91  270000.0   45000000.0   36\n",
              "3           91         91  270000.0  129000000.0   29\n",
              "4           91         91  350000.0  125500000.0   30\n",
              "...        ...        ...       ...          ...  ...\n",
              "19234       47         52    1000.0      70000.0   22\n",
              "19235       47         59     500.0     110000.0   19\n",
              "19236       47         55     500.0     100000.0   21\n",
              "19237       47         60     500.0     110000.0   19\n",
              "19238       47         60     500.0     110000.0   19\n",
              "\n",
              "[19165 rows x 5 columns]"
            ],
            "text/html": [
              "\n",
              "  <div id=\"df-d32095eb-3250-4f5f-b3b6-25488ac54595\">\n",
              "    <div class=\"colab-df-container\">\n",
              "      <div>\n",
              "<style scoped>\n",
              "    .dataframe tbody tr th:only-of-type {\n",
              "        vertical-align: middle;\n",
              "    }\n",
              "\n",
              "    .dataframe tbody tr th {\n",
              "        vertical-align: top;\n",
              "    }\n",
              "\n",
              "    .dataframe thead th {\n",
              "        text-align: right;\n",
              "    }\n",
              "</style>\n",
              "<table border=\"1\" class=\"dataframe\">\n",
              "  <thead>\n",
              "    <tr style=\"text-align: right;\">\n",
              "      <th></th>\n",
              "      <th>overall</th>\n",
              "      <th>potential</th>\n",
              "      <th>wage_eur</th>\n",
              "      <th>value_eur</th>\n",
              "      <th>age</th>\n",
              "    </tr>\n",
              "  </thead>\n",
              "  <tbody>\n",
              "    <tr>\n",
              "      <th>0</th>\n",
              "      <td>93</td>\n",
              "      <td>93</td>\n",
              "      <td>320000.0</td>\n",
              "      <td>78000000.0</td>\n",
              "      <td>34</td>\n",
              "    </tr>\n",
              "    <tr>\n",
              "      <th>1</th>\n",
              "      <td>92</td>\n",
              "      <td>92</td>\n",
              "      <td>270000.0</td>\n",
              "      <td>119500000.0</td>\n",
              "      <td>32</td>\n",
              "    </tr>\n",
              "    <tr>\n",
              "      <th>2</th>\n",
              "      <td>91</td>\n",
              "      <td>91</td>\n",
              "      <td>270000.0</td>\n",
              "      <td>45000000.0</td>\n",
              "      <td>36</td>\n",
              "    </tr>\n",
              "    <tr>\n",
              "      <th>3</th>\n",
              "      <td>91</td>\n",
              "      <td>91</td>\n",
              "      <td>270000.0</td>\n",
              "      <td>129000000.0</td>\n",
              "      <td>29</td>\n",
              "    </tr>\n",
              "    <tr>\n",
              "      <th>4</th>\n",
              "      <td>91</td>\n",
              "      <td>91</td>\n",
              "      <td>350000.0</td>\n",
              "      <td>125500000.0</td>\n",
              "      <td>30</td>\n",
              "    </tr>\n",
              "    <tr>\n",
              "      <th>...</th>\n",
              "      <td>...</td>\n",
              "      <td>...</td>\n",
              "      <td>...</td>\n",
              "      <td>...</td>\n",
              "      <td>...</td>\n",
              "    </tr>\n",
              "    <tr>\n",
              "      <th>19234</th>\n",
              "      <td>47</td>\n",
              "      <td>52</td>\n",
              "      <td>1000.0</td>\n",
              "      <td>70000.0</td>\n",
              "      <td>22</td>\n",
              "    </tr>\n",
              "    <tr>\n",
              "      <th>19235</th>\n",
              "      <td>47</td>\n",
              "      <td>59</td>\n",
              "      <td>500.0</td>\n",
              "      <td>110000.0</td>\n",
              "      <td>19</td>\n",
              "    </tr>\n",
              "    <tr>\n",
              "      <th>19236</th>\n",
              "      <td>47</td>\n",
              "      <td>55</td>\n",
              "      <td>500.0</td>\n",
              "      <td>100000.0</td>\n",
              "      <td>21</td>\n",
              "    </tr>\n",
              "    <tr>\n",
              "      <th>19237</th>\n",
              "      <td>47</td>\n",
              "      <td>60</td>\n",
              "      <td>500.0</td>\n",
              "      <td>110000.0</td>\n",
              "      <td>19</td>\n",
              "    </tr>\n",
              "    <tr>\n",
              "      <th>19238</th>\n",
              "      <td>47</td>\n",
              "      <td>60</td>\n",
              "      <td>500.0</td>\n",
              "      <td>110000.0</td>\n",
              "      <td>19</td>\n",
              "    </tr>\n",
              "  </tbody>\n",
              "</table>\n",
              "<p>19165 rows × 5 columns</p>\n",
              "</div>\n",
              "      <button class=\"colab-df-convert\" onclick=\"convertToInteractive('df-d32095eb-3250-4f5f-b3b6-25488ac54595')\"\n",
              "              title=\"Convert this dataframe to an interactive table.\"\n",
              "              style=\"display:none;\">\n",
              "        \n",
              "  <svg xmlns=\"http://www.w3.org/2000/svg\" height=\"24px\"viewBox=\"0 0 24 24\"\n",
              "       width=\"24px\">\n",
              "    <path d=\"M0 0h24v24H0V0z\" fill=\"none\"/>\n",
              "    <path d=\"M18.56 5.44l.94 2.06.94-2.06 2.06-.94-2.06-.94-.94-2.06-.94 2.06-2.06.94zm-11 1L8.5 8.5l.94-2.06 2.06-.94-2.06-.94L8.5 2.5l-.94 2.06-2.06.94zm10 10l.94 2.06.94-2.06 2.06-.94-2.06-.94-.94-2.06-.94 2.06-2.06.94z\"/><path d=\"M17.41 7.96l-1.37-1.37c-.4-.4-.92-.59-1.43-.59-.52 0-1.04.2-1.43.59L10.3 9.45l-7.72 7.72c-.78.78-.78 2.05 0 2.83L4 21.41c.39.39.9.59 1.41.59.51 0 1.02-.2 1.41-.59l7.78-7.78 2.81-2.81c.8-.78.8-2.07 0-2.86zM5.41 20L4 18.59l7.72-7.72 1.47 1.35L5.41 20z\"/>\n",
              "  </svg>\n",
              "      </button>\n",
              "      \n",
              "  <style>\n",
              "    .colab-df-container {\n",
              "      display:flex;\n",
              "      flex-wrap:wrap;\n",
              "      gap: 12px;\n",
              "    }\n",
              "\n",
              "    .colab-df-convert {\n",
              "      background-color: #E8F0FE;\n",
              "      border: none;\n",
              "      border-radius: 50%;\n",
              "      cursor: pointer;\n",
              "      display: none;\n",
              "      fill: #1967D2;\n",
              "      height: 32px;\n",
              "      padding: 0 0 0 0;\n",
              "      width: 32px;\n",
              "    }\n",
              "\n",
              "    .colab-df-convert:hover {\n",
              "      background-color: #E2EBFA;\n",
              "      box-shadow: 0px 1px 2px rgba(60, 64, 67, 0.3), 0px 1px 3px 1px rgba(60, 64, 67, 0.15);\n",
              "      fill: #174EA6;\n",
              "    }\n",
              "\n",
              "    [theme=dark] .colab-df-convert {\n",
              "      background-color: #3B4455;\n",
              "      fill: #D2E3FC;\n",
              "    }\n",
              "\n",
              "    [theme=dark] .colab-df-convert:hover {\n",
              "      background-color: #434B5C;\n",
              "      box-shadow: 0px 1px 3px 1px rgba(0, 0, 0, 0.15);\n",
              "      filter: drop-shadow(0px 1px 2px rgba(0, 0, 0, 0.3));\n",
              "      fill: #FFFFFF;\n",
              "    }\n",
              "  </style>\n",
              "\n",
              "      <script>\n",
              "        const buttonEl =\n",
              "          document.querySelector('#df-d32095eb-3250-4f5f-b3b6-25488ac54595 button.colab-df-convert');\n",
              "        buttonEl.style.display =\n",
              "          google.colab.kernel.accessAllowed ? 'block' : 'none';\n",
              "\n",
              "        async function convertToInteractive(key) {\n",
              "          const element = document.querySelector('#df-d32095eb-3250-4f5f-b3b6-25488ac54595');\n",
              "          const dataTable =\n",
              "            await google.colab.kernel.invokeFunction('convertToInteractive',\n",
              "                                                     [key], {});\n",
              "          if (!dataTable) return;\n",
              "\n",
              "          const docLinkHtml = 'Like what you see? Visit the ' +\n",
              "            '<a target=\"_blank\" href=https://colab.research.google.com/notebooks/data_table.ipynb>data table notebook</a>'\n",
              "            + ' to learn more about interactive tables.';\n",
              "          element.innerHTML = '';\n",
              "          dataTable['output_type'] = 'display_data';\n",
              "          await google.colab.output.renderOutput(dataTable, element);\n",
              "          const docLink = document.createElement('div');\n",
              "          docLink.innerHTML = docLinkHtml;\n",
              "          element.appendChild(docLink);\n",
              "        }\n",
              "      </script>\n",
              "    </div>\n",
              "  </div>\n",
              "  "
            ]
          },
          "metadata": {},
          "execution_count": 37
        }
      ]
    },
    {
      "cell_type": "markdown",
      "source": [
        "we are scaling the value; first step to k means clustering and ranging it from 1-10 (note that the minimum should be greater than 0)"
      ],
      "metadata": {
        "id": "2wnr6iAEq-Vq"
      }
    },
    {
      "cell_type": "code",
      "source": [
        "data = ((data-data.min())/(data.max()- data.min()))*9 +1"
      ],
      "metadata": {
        "id": "-Fo2ih-SYaqH"
      },
      "execution_count": 38,
      "outputs": []
    },
    {
      "cell_type": "markdown",
      "source": [
        "we are creating a method which randomly initializing centroids; second step to k means clustering. we are taking a random value from each row in data and appending it to a dataframe (pd.concat)"
      ],
      "metadata": {
        "id": "i6b-Irn3rMKJ"
      }
    },
    {
      "cell_type": "code",
      "source": [
        "def random_centroids(data, k):\n",
        "  centroids = []\n",
        "  for i in range (k):\n",
        "    centroid = data.apply(lambda x : float(x.sample()))\n",
        "    centroids.append(centroid)\n",
        "  return pd.concat(centroids, axis=1)\n"
      ],
      "metadata": {
        "id": "1IZ_uvj1TYqr"
      },
      "execution_count": 39,
      "outputs": []
    },
    {
      "cell_type": "code",
      "source": [
        "centroids = random_centroids(data, 5)"
      ],
      "metadata": {
        "id": "KsZ6juayZsko"
      },
      "execution_count": 41,
      "outputs": []
    },
    {
      "cell_type": "code",
      "source": [
        "centroids"
      ],
      "metadata": {
        "colab": {
          "base_uri": "https://localhost:8080/",
          "height": 206
        },
        "id": "V1QaaJIsac6b",
        "outputId": "ff572844-f0d6-4035-ac8c-7eaf429ed12b"
      },
      "execution_count": 42,
      "outputs": [
        {
          "output_type": "execute_result",
          "data": {
            "text/plain": [
              "                  0         1         2         3         4\n",
              "overall    5.304348  4.521739  6.282609  2.956522  2.565217\n",
              "potential  4.130435  6.086957  4.326087  3.739130  4.717391\n",
              "wage_eur   1.000000  1.090129  1.009013  1.012876  1.038627\n",
              "value_eur  1.050616  1.045976  1.124846  1.010253  1.055255\n",
              "age        5.000000  5.333333  2.333333  4.666667  4.333333"
            ],
            "text/html": [
              "\n",
              "  <div id=\"df-f676f47f-9eca-409c-912b-c38edf4b9e52\">\n",
              "    <div class=\"colab-df-container\">\n",
              "      <div>\n",
              "<style scoped>\n",
              "    .dataframe tbody tr th:only-of-type {\n",
              "        vertical-align: middle;\n",
              "    }\n",
              "\n",
              "    .dataframe tbody tr th {\n",
              "        vertical-align: top;\n",
              "    }\n",
              "\n",
              "    .dataframe thead th {\n",
              "        text-align: right;\n",
              "    }\n",
              "</style>\n",
              "<table border=\"1\" class=\"dataframe\">\n",
              "  <thead>\n",
              "    <tr style=\"text-align: right;\">\n",
              "      <th></th>\n",
              "      <th>0</th>\n",
              "      <th>1</th>\n",
              "      <th>2</th>\n",
              "      <th>3</th>\n",
              "      <th>4</th>\n",
              "    </tr>\n",
              "  </thead>\n",
              "  <tbody>\n",
              "    <tr>\n",
              "      <th>overall</th>\n",
              "      <td>5.304348</td>\n",
              "      <td>4.521739</td>\n",
              "      <td>6.282609</td>\n",
              "      <td>2.956522</td>\n",
              "      <td>2.565217</td>\n",
              "    </tr>\n",
              "    <tr>\n",
              "      <th>potential</th>\n",
              "      <td>4.130435</td>\n",
              "      <td>6.086957</td>\n",
              "      <td>4.326087</td>\n",
              "      <td>3.739130</td>\n",
              "      <td>4.717391</td>\n",
              "    </tr>\n",
              "    <tr>\n",
              "      <th>wage_eur</th>\n",
              "      <td>1.000000</td>\n",
              "      <td>1.090129</td>\n",
              "      <td>1.009013</td>\n",
              "      <td>1.012876</td>\n",
              "      <td>1.038627</td>\n",
              "    </tr>\n",
              "    <tr>\n",
              "      <th>value_eur</th>\n",
              "      <td>1.050616</td>\n",
              "      <td>1.045976</td>\n",
              "      <td>1.124846</td>\n",
              "      <td>1.010253</td>\n",
              "      <td>1.055255</td>\n",
              "    </tr>\n",
              "    <tr>\n",
              "      <th>age</th>\n",
              "      <td>5.000000</td>\n",
              "      <td>5.333333</td>\n",
              "      <td>2.333333</td>\n",
              "      <td>4.666667</td>\n",
              "      <td>4.333333</td>\n",
              "    </tr>\n",
              "  </tbody>\n",
              "</table>\n",
              "</div>\n",
              "      <button class=\"colab-df-convert\" onclick=\"convertToInteractive('df-f676f47f-9eca-409c-912b-c38edf4b9e52')\"\n",
              "              title=\"Convert this dataframe to an interactive table.\"\n",
              "              style=\"display:none;\">\n",
              "        \n",
              "  <svg xmlns=\"http://www.w3.org/2000/svg\" height=\"24px\"viewBox=\"0 0 24 24\"\n",
              "       width=\"24px\">\n",
              "    <path d=\"M0 0h24v24H0V0z\" fill=\"none\"/>\n",
              "    <path d=\"M18.56 5.44l.94 2.06.94-2.06 2.06-.94-2.06-.94-.94-2.06-.94 2.06-2.06.94zm-11 1L8.5 8.5l.94-2.06 2.06-.94-2.06-.94L8.5 2.5l-.94 2.06-2.06.94zm10 10l.94 2.06.94-2.06 2.06-.94-2.06-.94-.94-2.06-.94 2.06-2.06.94z\"/><path d=\"M17.41 7.96l-1.37-1.37c-.4-.4-.92-.59-1.43-.59-.52 0-1.04.2-1.43.59L10.3 9.45l-7.72 7.72c-.78.78-.78 2.05 0 2.83L4 21.41c.39.39.9.59 1.41.59.51 0 1.02-.2 1.41-.59l7.78-7.78 2.81-2.81c.8-.78.8-2.07 0-2.86zM5.41 20L4 18.59l7.72-7.72 1.47 1.35L5.41 20z\"/>\n",
              "  </svg>\n",
              "      </button>\n",
              "      \n",
              "  <style>\n",
              "    .colab-df-container {\n",
              "      display:flex;\n",
              "      flex-wrap:wrap;\n",
              "      gap: 12px;\n",
              "    }\n",
              "\n",
              "    .colab-df-convert {\n",
              "      background-color: #E8F0FE;\n",
              "      border: none;\n",
              "      border-radius: 50%;\n",
              "      cursor: pointer;\n",
              "      display: none;\n",
              "      fill: #1967D2;\n",
              "      height: 32px;\n",
              "      padding: 0 0 0 0;\n",
              "      width: 32px;\n",
              "    }\n",
              "\n",
              "    .colab-df-convert:hover {\n",
              "      background-color: #E2EBFA;\n",
              "      box-shadow: 0px 1px 2px rgba(60, 64, 67, 0.3), 0px 1px 3px 1px rgba(60, 64, 67, 0.15);\n",
              "      fill: #174EA6;\n",
              "    }\n",
              "\n",
              "    [theme=dark] .colab-df-convert {\n",
              "      background-color: #3B4455;\n",
              "      fill: #D2E3FC;\n",
              "    }\n",
              "\n",
              "    [theme=dark] .colab-df-convert:hover {\n",
              "      background-color: #434B5C;\n",
              "      box-shadow: 0px 1px 3px 1px rgba(0, 0, 0, 0.15);\n",
              "      filter: drop-shadow(0px 1px 2px rgba(0, 0, 0, 0.3));\n",
              "      fill: #FFFFFF;\n",
              "    }\n",
              "  </style>\n",
              "\n",
              "      <script>\n",
              "        const buttonEl =\n",
              "          document.querySelector('#df-f676f47f-9eca-409c-912b-c38edf4b9e52 button.colab-df-convert');\n",
              "        buttonEl.style.display =\n",
              "          google.colab.kernel.accessAllowed ? 'block' : 'none';\n",
              "\n",
              "        async function convertToInteractive(key) {\n",
              "          const element = document.querySelector('#df-f676f47f-9eca-409c-912b-c38edf4b9e52');\n",
              "          const dataTable =\n",
              "            await google.colab.kernel.invokeFunction('convertToInteractive',\n",
              "                                                     [key], {});\n",
              "          if (!dataTable) return;\n",
              "\n",
              "          const docLinkHtml = 'Like what you see? Visit the ' +\n",
              "            '<a target=\"_blank\" href=https://colab.research.google.com/notebooks/data_table.ipynb>data table notebook</a>'\n",
              "            + ' to learn more about interactive tables.';\n",
              "          element.innerHTML = '';\n",
              "          dataTable['output_type'] = 'display_data';\n",
              "          await google.colab.output.renderOutput(dataTable, element);\n",
              "          const docLink = document.createElement('div');\n",
              "          docLink.innerHTML = docLinkHtml;\n",
              "          element.appendChild(docLink);\n",
              "        }\n",
              "      </script>\n",
              "    </div>\n",
              "  </div>\n",
              "  "
            ]
          },
          "metadata": {},
          "execution_count": 42
        }
      ]
    },
    {
      "cell_type": "markdown",
      "source": [
        "we are creating a method which gives a label to each centroid ; third step to kmc. we are finding the min distance between the rand centroid and actual value in data. idymin returns which cluster(column/feature) the min value is from "
      ],
      "metadata": {
        "id": "3aIjCk6ftGi3"
      }
    },
    {
      "cell_type": "code",
      "source": [
        "def get_labels(data, centroids):\n",
        "  distances = centroids.apply(lambda y: np.sqrt(((data - y)**2).sum(axis=1)))\n",
        "  return distances.idymin(axis=1)"
      ],
      "metadata": {
        "id": "X2VJgFFTbAyS"
      },
      "execution_count": 59,
      "outputs": []
    },
    {
      "cell_type": "code",
      "source": [
        "labels = get_labels(data, centroids)"
      ],
      "metadata": {
        "id": "80ZNmLyNck8H"
      },
      "execution_count": 44,
      "outputs": []
    },
    {
      "cell_type": "markdown",
      "source": [
        "finding the geometric mean and grouping it. .T turns the rows to columns and columns to rows since this returns an inverted array"
      ],
      "metadata": {
        "id": "ktFfBJ9Ut2K1"
      }
    },
    {
      "cell_type": "code",
      "source": [
        "def new_centroids (data, labels, k):\n",
        "  return data.groupby(labels).apply(lambda x : np.exp(np.log(x).mean())).T"
      ],
      "metadata": {
        "id": "5yzWyR1ReIH2"
      },
      "execution_count": 46,
      "outputs": []
    },
    {
      "cell_type": "code",
      "source": [
        "from sklearn.decomposition import PCA \n",
        "import matplotlib.pyplot as plt\n",
        "from IPython.display import clear_output               "
      ],
      "metadata": {
        "id": "xIHqMuodfnN5"
      },
      "execution_count": 47,
      "outputs": []
    },
    {
      "cell_type": "markdown",
      "source": [
        "this step is not necessary but it's more efficient to implement it. when creating a plot, it is easier to visualize it when we are handling 2d data. in this case its 5d (5 columns) so we are converting the 5d data into 2d for easier plotting"
      ],
      "metadata": {
        "id": "YxZD7u8luQDq"
      }
    },
    {
      "cell_type": "code",
      "source": [
        "def plot_clusters (data, labels, centroids, iteration):\n",
        "  pca = PCA(n_components=2)\n",
        "  data_2d = pca.fit_transform(data)\n",
        "  centroids_2d = pca.fit_transform(centroids.T)\n",
        "  clear_output(wait=True)\n",
        "  plt.title(f'Iteration {iteration}')\n",
        "  plt.scatter(x=data_2d[:,0], y=data_2d[:,1], c=labels)\n",
        "  plt.scatter(x = centroids_2d[:,0], y=centroids_2d[:,1])\n",
        "  plt.show()\n",
        "\n",
        "\n"
      ],
      "metadata": {
        "id": "nFfMD7UHh1R2"
      },
      "execution_count": 48,
      "outputs": []
    },
    {
      "cell_type": "markdown",
      "source": [
        "we are iterating the above process of randomizing, finding the min distance and finding the G.M till we reach a maximum of 100 iterations or till the centroids don't change. the number of iterations might vary everytime since we are initializing randomly"
      ],
      "metadata": {
        "id": "bv8HOFNDu3fN"
      }
    },
    {
      "cell_type": "code",
      "source": [
        "\n",
        "max_iteration = 100\n",
        "k = 5\n",
        "centroids = random_centroids(data, k)\n",
        "old_centroids = pd.DataFrame()\n",
        "iteration =1\n",
        "while iteration < max_iteration and not centroids.equals(old_centroids): \n",
        "  old_centroids = centroids\n",
        "  labels = get_labels(data, centroids)\n",
        "  centroids = new_centroids(data, labels, k)\n",
        "  plot_clusters (data, labels, centroids, iteration)\n",
        "  iteration+=1\n"
      ],
      "metadata": {
        "colab": {
          "base_uri": "https://localhost:8080/",
          "height": 452
        },
        "id": "ssEFDgUMj_QJ",
        "outputId": "5d2b4701-e4a3-4829-eace-e335f5fc1b09"
      },
      "execution_count": 54,
      "outputs": [
        {
          "output_type": "display_data",
          "data": {
            "text/plain": [
              "<Figure size 640x480 with 1 Axes>"
            ],
            "image/png": "[encoded data removed]"
          },
          "metadata": {}
        }
      ]
    }
  ]
}